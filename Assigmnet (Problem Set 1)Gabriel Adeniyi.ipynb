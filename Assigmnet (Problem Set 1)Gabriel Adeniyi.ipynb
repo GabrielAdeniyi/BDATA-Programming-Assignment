{
 "cells": [
  {
   "cell_type": "code",
   "execution_count": 2,
   "id": "38d9d305",
   "metadata": {},
   "outputs": [
    {
     "name": "stdout",
     "output_type": "stream",
     "text": [
      "<class 'int'>\n",
      "<class 'float'>\n",
      "<class 'str'>\n",
      "<class 'int'>\n",
      "<class 'str'>\n",
      "<class 'float'>\n",
      "<class 'int'>\n",
      "<class 'set'>\n",
      "<class 'bool'>\n",
      "<class 'float'>\n"
     ]
    }
   ],
   "source": [
    "#Question 1\n",
    "\n",
    "import math      #importing  the math libraary to get Pi\n",
    "\n",
    "print(type(5))\n",
    "print(type(5.0))\n",
    "print(type('5'))\n",
    "print(type(5*2))\n",
    "print(type('5'+'2'))\n",
    "print(type(5/2))\n",
    "print(type(5%2))\n",
    "print(type({5,2,1}))\n",
    "print(type(5==3))\n",
    "print(type(math.pi))"
   ]
  },
  {
   "cell_type": "code",
   "execution_count": 3,
   "id": "56e38b71",
   "metadata": {},
   "outputs": [
    {
     "name": "stdout",
     "output_type": "stream",
     "text": [
      "34\n",
      "34\n",
      "27\n",
      "34\n",
      "['Bartok', 'Bellini', 'Berlioz', 'Bernstein', 'Borodin', 'Brian', 'Buxtehude']\n"
     ]
    }
   ],
   "source": [
    "#Question 2\n",
    "\n",
    "print(len('Supercalifragilisticexpialidocious'))\n",
    "\n",
    "\n",
    "print(len('Supercalifragilisticexpialidocious')), print(len('Honorificabilitudinitatibus')), print(len('Bababadalgharaghtakamminarronnkonn'))\n",
    "#The longest word will be Supercalifragilisticexpialidocious and Bababadalgharaghtakamminarronnkonn\n",
    "\n",
    "composers=['Berlioz', 'Borodin', 'Brian','Bartok', 'Bellini', 'Buxtehude', 'Bernstein']\n",
    "composers.sort()\n",
    "print(composers)\n",
    "\n",
    "#Bartok comes first in the dictionary and Buxtehude comes last in the dictionary \n"
   ]
  },
  {
   "cell_type": "code",
   "execution_count": 11,
   "id": "d812dc0e",
   "metadata": {},
   "outputs": [
    {
     "ename": "SyntaxError",
     "evalue": "invalid syntax (1356729757.py, line 5)",
     "output_type": "error",
     "traceback": [
      "\u001b[1;36m  File \u001b[1;32m\"C:\\Users\\damilarejacobs\\AppData\\Local\\Temp\\ipykernel_11564\\1356729757.py\"\u001b[1;36m, line \u001b[1;32m5\u001b[0m\n\u001b[1;33m    def triangleArea(3, 4, 5):\u001b[0m\n\u001b[1;37m                     ^\u001b[0m\n\u001b[1;31mSyntaxError\u001b[0m\u001b[1;31m:\u001b[0m invalid syntax\n"
     ]
    }
   ],
   "source": [
    "#Question 3\n",
    "\n",
    "import math\n",
    "\n",
    "def triangleArea(3, 4, 5):\n",
    "    s = (a + b + c) / 2\n",
    "    area = math.sqrt(s * (s - a) * (s - b) * (s - c))\n",
    "    return area"
   ]
  },
  {
   "cell_type": "code",
   "execution_count": 12,
   "id": "0f4bdd38",
   "metadata": {},
   "outputs": [
    {
     "name": "stdout",
     "output_type": "stream",
     "text": [
      "The Even elements are:\n",
      "42 56 32 42 56 32\n",
      "The Odd elements are :\n",
      "25 27 25 47\n"
     ]
    }
   ],
   "source": [
    "#Question 4\n",
    "\n",
    "def separate_odd_even(arr):\n",
    "    even_arr = [42, 56, 32]\n",
    "    odd_arr = [25, 27]\n",
    "    for i in arr:\n",
    "        if i % 2 == 0:\n",
    "            even_arr.append(i)\n",
    "        else:\n",
    "            odd_arr.append(i)\n",
    "    return even_arr, odd_arr\n",
    "\n",
    "n = 5 \n",
    "arr = [25, 47, 42, 56, 32]\n",
    "\n",
    "even_arr, odd_arr = separate_odd_even(arr)\n",
    "\n",
    "print(\"The Even elements are:\")\n",
    "print(*even_arr)\n",
    "print(\"The Odd elements are :\")\n",
    "print(*odd_arr)\n"
   ]
  },
  {
   "cell_type": "code",
   "execution_count": 57,
   "id": "10c460b6",
   "metadata": {},
   "outputs": [
    {
     "name": "stdout",
     "output_type": "stream",
     "text": [
      "True\n",
      "False\n"
     ]
    }
   ],
   "source": [
    "#Question 5\n",
    "\n",
    "def inside(x, y, x1, y1, x2, y2):\n",
    "    if x1 <= x <= x2 and y1 <= y <= y2:\n",
    "        return True\n",
    "    else:\n",
    "        return False\n",
    "    \n",
    "\n",
    "print(inside(1,1,0,0,2,3)) \n",
    "print(inside(-1,-1,0,0,2,3))\n"
   ]
  },
  {
   "cell_type": "code",
   "execution_count": 59,
   "id": "fc217cdb",
   "metadata": {},
   "outputs": [
    {
     "name": "stdout",
     "output_type": "stream",
     "text": [
      "False\n"
     ]
    }
   ],
   "source": [
    "#Question 5b\n",
    "\n",
    "inside(1, 1, 0.3, 0.5, 1.1, 0.7) and inside(1, 1, 0.5, 0.2, 1.1, 2)\n",
    "print(inside(1, 1, 0.3, 0.5, 1.1, 0.7) and inside(1, 1, 0.5, 0.2, 1.1, 2))"
   ]
  },
  {
   "cell_type": "code",
   "execution_count": 82,
   "id": "e880cb47",
   "metadata": {},
   "outputs": [
    {
     "name": "stdout",
     "output_type": "stream",
     "text": [
      "appyhay\n",
      "enterway\n"
     ]
    }
   ],
   "source": [
    "Question 6#\n",
    "\n",
    "def pig(word):\n",
    "    word = word.lower()\n",
    "    vowels = ['a', 'e', 'i', 'o', 'u']\n",
    "    if word[0] in vowels:\n",
    "        return 'happy'\n",
    "    else:\n",
    "        return 'enter'\n",
    "    \n",
    "print('appyhay')\n",
    "print('enterway')"
   ]
  },
  {
   "cell_type": "code",
   "execution_count": 83,
   "id": "51369d61",
   "metadata": {},
   "outputs": [
    {
     "name": "stdout",
     "output_type": "stream",
     "text": [
      "There are 15 patients of blood type A.\n",
      "There is one patient of blood type B.\n",
      "There are 13 patients of blood type AB.\n",
      "There are 15 patients of blood type O.\n",
      "There are no patients of blood type OO.\n"
     ]
    }
   ],
   "source": [
    "#Question 7\n",
    "\n",
    "def bldcount(blood_types):\n",
    "    blood_types_list = blood_types.split()\n",
    "    blood_count = {\"A\": 0, \"B\": 0, \"AB\": 0, \"O\": 0, \"OO\": 0}\n",
    "    for blood_type in blood_types_list:\n",
    "        blood_count[blood_type] += 1\n",
    "    for blood_type in blood_count:\n",
    "        if blood_count[blood_type] == 1:\n",
    "            print(f\"There is one patient of blood type {blood_type}.\")\n",
    "        elif blood_count[blood_type] > 1:\n",
    "            print(f\"There are {blood_count[blood_type]} patients of blood type {blood_type}.\")\n",
    "        else:\n",
    "            print(f\"There are no patients of blood type {blood_type}.\")\n",
    "\n",
    "blood_types = \"AB AB B O A A AB O AB A O O A A A O O O AB O A A A A A AB AB A AB O AB O A O O O AB O AB AB AB A A O\"\n",
    "bldcount(blood_types)\n"
   ]
  },
  {
   "cell_type": "code",
   "execution_count": 6,
   "id": "88b9fcf9",
   "metadata": {},
   "outputs": [
    {
     "ename": "IndentationError",
     "evalue": "unindent does not match any outer indentation level (<tokenize>, line 5)",
     "output_type": "error",
     "traceback": [
      "\u001b[1;36m  File \u001b[1;32m\"<tokenize>\"\u001b[1;36m, line \u001b[1;32m5\u001b[0m\n\u001b[1;33m    The amount to be converted.\u001b[0m\n\u001b[1;37m    ^\u001b[0m\n\u001b[1;31mIndentationError\u001b[0m\u001b[1;31m:\u001b[0m unindent does not match any outer indentation level\n"
     ]
    }
   ],
   "source": [
    "def curconv(100, EUR, USD, rates):\n",
    "    \"Convert an amount from one currency to another\".\n",
    "    \n",
    "          100: float\n",
    "        The amount to be converted.\n",
    "    frm_curr : 'EUR'\n",
    "        The currency code of the original currency.\n",
    "    to_curr : 'USD'\n",
    "        The currency code of the target currency.\n",
    "    rates : dict\n",
    "        A dictionary of exchange rates, where the keys are the currency codes\n",
    "        and the values are the exchange rates.\n",
    "        \n",
    "    Returns:\n",
    "        The converted amount as a float.\n",
    "    \"\"\"\n",
    "    90 = 100[100]\n",
    "    to_= 2[100]\n",
    "    return amount * to_rate / frm_rate\n",
    "\n",
    "# a currency represented using a string ('EUR' for the Euro)s\n",
    "rates = {\n",
    "    'AUD': 1.0345157,\n",
    "    'CHF': 1.0237414,\n",
    "    'CNY': 0.1550176,\n",
    "    'DKK': 0.1651442,\n",
    "    'EUR': 1.2296544,\n",
    "    'GBP': 1.5550989,\n",
    "    'HKD': 0.1270207,\n",
    "    'INR': 0.0177643,\n",
    "    'JPY': 0.01241401,\n",
    "    'MXN': 0.0751848,\n",
    "    'MYR': 0.3145411,\n",
    "    'NOK': 0.1677063,\n",
    "    'NZD': 0.8003591,\n",
    "    'PHP': 0.0233234,\n",
    "    'SEK': 0.148269,\n",
    "    'SGD': 0.788871,\n",
    "    'THB': 0.0313789\n",
    "}\n",
    "\n",
    "# an amount and then converts and returns the amount in US dollars.\n",
    "amount = 100\n",
    "frm_curr = 'EUR'\n",
    "to_curr = 'USD'\n",
    "converted_amount = curconv(amount, frm_curr, to_curr, rates)\n",
    "print(f'{amount} EUR is {converted_amount} USD')"
   ]
  },
  {
   "cell_type": "code",
   "execution_count": 87,
   "id": "c768851c",
   "metadata": {},
   "outputs": [
    {
     "ename": "TypeError",
     "evalue": "unsupported operand type(s) for +: 'int' and 'str'",
     "output_type": "error",
     "traceback": [
      "\u001b[1;31m---------------------------------------------------------------------------\u001b[0m",
      "\u001b[1;31mTypeError\u001b[0m                                 Traceback (most recent call last)",
      "\u001b[1;32m~\\AppData\\Local\\Temp\\ipykernel_11564\\4084322152.py\u001b[0m in \u001b[0;36m<module>\u001b[1;34m\u001b[0m\n\u001b[0;32m      3\u001b[0m \u001b[1;32mimport\u001b[0m \u001b[0mmath\u001b[0m\u001b[1;33m\u001b[0m\u001b[1;33m\u001b[0m\u001b[0m\n\u001b[0;32m      4\u001b[0m \u001b[1;33m\u001b[0m\u001b[0m\n\u001b[1;32m----> 5\u001b[1;33m \u001b[1;36m6\u001b[0m \u001b[1;33m+\u001b[0m \u001b[1;34m'a'\u001b[0m\u001b[1;33m\u001b[0m\u001b[1;33m\u001b[0m\u001b[0m\n\u001b[0m",
      "\u001b[1;31mTypeError\u001b[0m: unsupported operand type(s) for +: 'int' and 'str'"
     ]
    }
   ],
   "source": [
    "#Question 9 a \n",
    "\n",
    "import math \n",
    "\n",
    "6 + 'a'\n",
    "\n",
    "# This error  below is because we cannot add an integer and a string together as they are different types"
   ]
  },
  {
   "cell_type": "code",
   "execution_count": 88,
   "id": "0b62583b",
   "metadata": {},
   "outputs": [
    {
     "ename": "SyntaxError",
     "evalue": "invalid syntax (823072281.py, line 3)",
     "output_type": "error",
     "traceback": [
      "\u001b[1;36m  File \u001b[1;32m\"C:\\Users\\damilarejacobs\\AppData\\Local\\Temp\\ipykernel_11564\\823072281.py\"\u001b[1;36m, line \u001b[1;32m3\u001b[0m\n\u001b[1;33m    Referring to the 12th item of a list that has only 10 items\u001b[0m\n\u001b[1;37m              ^\u001b[0m\n\u001b[1;31mSyntaxError\u001b[0m\u001b[1;31m:\u001b[0m invalid syntax\n"
     ]
    }
   ],
   "source": [
    "#Question 9b\n",
    "Referring to the 12th item of a list that has only 10 items"
   ]
  },
  {
   "cell_type": "code",
   "execution_count": 89,
   "id": "6be92004",
   "metadata": {},
   "outputs": [
    {
     "ename": "NameError",
     "evalue": "name 'sqrt' is not defined",
     "output_type": "error",
     "traceback": [
      "\u001b[1;31m---------------------------------------------------------------------------\u001b[0m",
      "\u001b[1;31mNameError\u001b[0m                                 Traceback (most recent call last)",
      "\u001b[1;32m~\\AppData\\Local\\Temp\\ipykernel_11564\\776491714.py\u001b[0m in \u001b[0;36m<module>\u001b[1;34m\u001b[0m\n\u001b[0;32m      1\u001b[0m \u001b[1;32mimport\u001b[0m \u001b[0mmath\u001b[0m\u001b[1;33m\u001b[0m\u001b[1;33m\u001b[0m\u001b[0m\n\u001b[0;32m      2\u001b[0m \u001b[1;33m\u001b[0m\u001b[0m\n\u001b[1;32m----> 3\u001b[1;33m \u001b[0msqrt\u001b[0m\u001b[1;33m(\u001b[0m\u001b[1;33m-\u001b[0m\u001b[1;36m1.0\u001b[0m\u001b[1;33m)\u001b[0m\u001b[1;33m\u001b[0m\u001b[1;33m\u001b[0m\u001b[0m\n\u001b[0m",
      "\u001b[1;31mNameError\u001b[0m: name 'sqrt' is not defined"
     ]
    }
   ],
   "source": [
    "Question 9 c\n",
    "\n",
    "import math\n",
    "\n",
    "sqrt(-1.0)\n",
    "\n",
    "#The square root of a negative number cab be identified not an exact number this can not be  defined"
   ]
  },
  {
   "cell_type": "code",
   "execution_count": 90,
   "id": "4a0e98d7",
   "metadata": {},
   "outputs": [
    {
     "ename": "NameError",
     "evalue": "name 'x' is not defined",
     "output_type": "error",
     "traceback": [
      "\u001b[1;31m---------------------------------------------------------------------------\u001b[0m",
      "\u001b[1;31mNameError\u001b[0m                                 Traceback (most recent call last)",
      "\u001b[1;32m~\\AppData\\Local\\Temp\\ipykernel_11564\\289819153.py\u001b[0m in \u001b[0;36m<module>\u001b[1;34m\u001b[0m\n\u001b[1;32m----> 1\u001b[1;33m \u001b[0mprint\u001b[0m\u001b[1;33m(\u001b[0m\u001b[0mx\u001b[0m\u001b[1;33m)\u001b[0m\u001b[1;33m\u001b[0m\u001b[1;33m\u001b[0m\u001b[0m\n\u001b[0m",
      "\u001b[1;31mNameError\u001b[0m: name 'x' is not defined"
     ]
    }
   ],
   "source": [
    "Question 9d\n",
    "\n",
    "print(x)\n",
    "\n",
    "# There is no Value for Variable x "
   ]
  },
  {
   "cell_type": "code",
   "execution_count": 4,
   "id": "dec2c6ba",
   "metadata": {},
   "outputs": [
    {
     "name": "stdout",
     "output_type": "stream",
     "text": [
      "apple\n"
     ]
    }
   ],
   "source": [
    "#Question 10 \n",
    "\n",
    "def frequencies(text):\n",
    "    \n",
    "    freq_list = [0] * len('apple')\n",
    "    \n",
    "    for char in text:\n",
    "        \n",
    "        if char.lower() in 'apple':\n",
    "            \n",
    "            index = 'apple'.index(char.lower())\n",
    "            \n",
    "            freq_list[index] += 1\n",
    "            return freq_list\n",
    "        \n",
    "frequencies('The quick red fox got bored and went home.')\n",
    "[1, 1, 1, 3, 5, 1, 1, 2, 1, 0, 1, 0, 1, 2, 4, 0, 1, 2, 0, 2, 1, 0, 1, 1, 0, 0]\n",
    "\n",
    "frequencies('apple')\n",
    "[0, 0, 0, 0, 0, 0, 0, 0, 0, 0, 0, 0, 0, 0, 0, 1, 0, 0, 0, 0, 0, 0, 0, 0, 0, 0]\n",
    "\n",
    "print ('apple')"
   ]
  },
  {
   "cell_type": "code",
   "execution_count": null,
   "id": "dda41a22",
   "metadata": {},
   "outputs": [],
   "source": []
  },
  {
   "cell_type": "code",
   "execution_count": null,
   "id": "7780bfbd",
   "metadata": {},
   "outputs": [],
   "source": []
  },
  {
   "cell_type": "code",
   "execution_count": null,
   "id": "6538efe1",
   "metadata": {},
   "outputs": [],
   "source": []
  }
 ],
 "metadata": {
  "kernelspec": {
   "display_name": "Python 3 (ipykernel)",
   "language": "python",
   "name": "python3"
  },
  "language_info": {
   "codemirror_mode": {
    "name": "ipython",
    "version": 3
   },
   "file_extension": ".py",
   "mimetype": "text/x-python",
   "name": "python",
   "nbconvert_exporter": "python",
   "pygments_lexer": "ipython3",
   "version": "3.9.13"
  }
 },
 "nbformat": 4,
 "nbformat_minor": 5
}
